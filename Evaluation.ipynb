{
 "cells": [
  {
   "cell_type": "code",
   "execution_count": 1,
   "id": "abaa7027",
   "metadata": {},
   "outputs": [],
   "source": [
    "import numpy as np"
   ]
  },
  {
   "cell_type": "code",
   "execution_count": 2,
   "id": "0009787a",
   "metadata": {},
   "outputs": [],
   "source": [
    "ground_data = np.loadtxt('/spslam/kitti-odometry-gray/poses/07.txt')"
   ]
  },
  {
   "cell_type": "code",
   "execution_count": 3,
   "id": "dc3bc4c2",
   "metadata": {},
   "outputs": [
    {
     "data": {
      "text/plain": [
       "array([1.000000e+00, 1.197625e-11, 1.704638e-10, 5.551115e-17,\n",
       "       1.197625e-11, 1.000000e+00, 3.562503e-10, 0.000000e+00,\n",
       "       1.704638e-10, 3.562503e-10, 1.000000e+00, 2.220446e-16])"
      ]
     },
     "execution_count": 3,
     "metadata": {},
     "output_type": "execute_result"
    }
   ],
   "source": [
    "ground_data[0]"
   ]
  },
  {
   "cell_type": "code",
   "execution_count": 4,
   "id": "1d150615",
   "metadata": {},
   "outputs": [],
   "source": [
    "ground_time = np.loadtxt('/spslam/kitti-odometry-gray/sequences/07/times.txt')"
   ]
  },
  {
   "cell_type": "code",
   "execution_count": 5,
   "id": "c62324da",
   "metadata": {},
   "outputs": [
    {
     "data": {
      "text/plain": [
       "array([0.000000e+00, 1.038752e-01, 2.078941e-01, ..., 1.141216e+02,\n",
       "       1.142256e+02, 1.143296e+02])"
      ]
     },
     "execution_count": 5,
     "metadata": {},
     "output_type": "execute_result"
    }
   ],
   "source": [
    "ground_time"
   ]
  },
  {
   "cell_type": "code",
   "execution_count": 6,
   "id": "febd47c3",
   "metadata": {},
   "outputs": [],
   "source": [
    "file = open('/spslam/colmap_workspace/images.txt')\n",
    "l = file.readlines()\n",
    "file.close()"
   ]
  },
  {
   "cell_type": "code",
   "execution_count": 7,
   "id": "8498317a",
   "metadata": {},
   "outputs": [],
   "source": [
    "# empty_list = []\n",
    "# for i in range(len(l[4::2])):\n",
    "#     empty_list.append(float(l[4::2][i].split()[-1][:-4]))\n",
    "# print(np.array(empty_list).reshape(-1,1))"
   ]
  },
  {
   "cell_type": "code",
   "execution_count": 8,
   "id": "9f27596d",
   "metadata": {},
   "outputs": [],
   "source": [
    "res_data = np.loadtxt('/spslam/colmap_workspace/images.txt', usecols = [1,2,3,4,5,6,7])[0::2]"
   ]
  },
  {
   "cell_type": "code",
   "execution_count": 9,
   "id": "32c1345a",
   "metadata": {},
   "outputs": [
    {
     "data": {
      "text/plain": [
       "array([[ 9.16174289e-02,  1.51965202e-02,  9.95547974e-01, ...,\n",
       "        -2.45752615e+00,  4.43528995e-02, -8.24941536e-01],\n",
       "       [ 8.81037800e-02,  1.49522294e-02,  9.95870510e-01, ...,\n",
       "        -2.46312501e+00,  4.27704020e-02, -8.09840487e-01],\n",
       "       [ 8.43328182e-02,  1.48542158e-02,  9.96204671e-01, ...,\n",
       "        -2.46899878e+00,  4.16055718e-02, -7.93510042e-01],\n",
       "       ...,\n",
       "       [ 3.00343348e-03,  5.98645536e-03,  9.99798242e-01, ...,\n",
       "        -2.56600547e+00, -1.07994440e-03, -6.02529321e-01],\n",
       "       [ 2.89291985e-03,  5.86914031e-03,  9.99790342e-01, ...,\n",
       "        -2.56616473e+00, -1.13361144e-03, -6.02065129e-01],\n",
       "       [ 2.85996204e-03,  5.83714806e-03,  9.99790313e-01, ...,\n",
       "        -2.56621372e+00, -1.27869081e-03, -6.01869065e-01]])"
      ]
     },
     "execution_count": 9,
     "metadata": {},
     "output_type": "execute_result"
    }
   ],
   "source": [
    "res_data"
   ]
  },
  {
   "cell_type": "code",
   "execution_count": 10,
   "id": "fe0d55be",
   "metadata": {},
   "outputs": [],
   "source": [
    "# res_data = np.hstack((np.array(empty_list).reshape(-1,1), res_data))"
   ]
  },
  {
   "cell_type": "code",
   "execution_count": 11,
   "id": "5f88a264",
   "metadata": {},
   "outputs": [
    {
     "data": {
      "text/plain": [
       "array([ 0.09161743,  0.01519652,  0.99554797,  0.01611036, -2.45752615,\n",
       "        0.0443529 , -0.82494154])"
      ]
     },
     "execution_count": 11,
     "metadata": {},
     "output_type": "execute_result"
    }
   ],
   "source": [
    "res_data[0]"
   ]
  },
  {
   "cell_type": "code",
   "execution_count": 12,
   "id": "274a8348",
   "metadata": {},
   "outputs": [],
   "source": [
    "# res_data[:,0] = res_data[:,0]+1"
   ]
  },
  {
   "cell_type": "code",
   "execution_count": 13,
   "id": "893199d1",
   "metadata": {},
   "outputs": [],
   "source": [
    "# # Get indices that would sort the first column\n",
    "# sorted_indices = np.argsort(res_data[:, 0])\n",
    "\n",
    "# # Reorder rows based on the sorted indices\n",
    "# res_data = res_data[sorted_indices]"
   ]
  },
  {
   "cell_type": "code",
   "execution_count": 14,
   "id": "9eefb854",
   "metadata": {},
   "outputs": [
    {
     "data": {
      "text/plain": [
       "array([0.01519652, 0.99554797, 0.01611036, 0.09161743])"
      ]
     },
     "execution_count": 14,
     "metadata": {},
     "output_type": "execute_result"
    }
   ],
   "source": [
    "# converting quaternion to scalar-last format\n",
    "np.insert(res_data[0][0:4], 4, res_data[0][0])[1:5]"
   ]
  },
  {
   "cell_type": "code",
   "execution_count": 15,
   "id": "6db1af73",
   "metadata": {},
   "outputs": [],
   "source": [
    "from scipy.spatial.transform import Rotation as R\n",
    "x = np.insert(res_data[0][0:4], 4, res_data[0][0])[1:5] # uses scalar-last format\n",
    "r = R.from_quat(x)"
   ]
  },
  {
   "cell_type": "code",
   "execution_count": 16,
   "id": "bc85a08c",
   "metadata": {},
   "outputs": [
    {
     "data": {
      "text/plain": [
       "array([0.01519652, 0.99554797, 0.01611036, 0.09161743])"
      ]
     },
     "execution_count": 16,
     "metadata": {},
     "output_type": "execute_result"
    }
   ],
   "source": [
    "x"
   ]
  },
  {
   "cell_type": "code",
   "execution_count": 17,
   "id": "cc9b28c8",
   "metadata": {},
   "outputs": [
    {
     "data": {
      "text/plain": [
       "array([[-0.98275063,  0.02730575,  0.18290873],\n",
       "       [ 0.03320971,  0.99901904,  0.02929273],\n",
       "       [-0.18192945,  0.0348618 , -0.98269341]])"
      ]
     },
     "execution_count": 17,
     "metadata": {},
     "output_type": "execute_result"
    }
   ],
   "source": [
    "r.as_matrix()"
   ]
  },
  {
   "cell_type": "code",
   "execution_count": 18,
   "id": "7805dc33",
   "metadata": {},
   "outputs": [],
   "source": [
    "# Another method to calculate rotation matrix from quaternion\n",
    "# import numpy as np\n",
    "\n",
    "# def quaternion_to_rotation_matrix(q):\n",
    "#     q = np.array(q)\n",
    "#     q /= np.linalg.norm(q)  # Normalize quaternion\n",
    "#     qw, qx, qy, qz = q\n",
    "#     R = np.array([\n",
    "#         [1 - 2*(qy**2 + qz**2), 2*(qx*qy - qw*qz), 2*(qx*qz + qw*qy)],\n",
    "#         [2*(qx*qy + qw*qz), 1 - 2*(qx**2 + qz**2), 2*(qy*qz - qw*qx)],\n",
    "#         [2*(qx*qz - qw*qy), 2*(qy*qz + qw*qx), 1 - 2*(qx**2 + qy**2)]\n",
    "#     ])\n",
    "#     return R\n",
    "\n",
    "# # Example usage:\n",
    "# q = [0.03441355,  0.01411892,  0.9992166 ,  0.01351114]  # Example quaternion [w, x, y, z]\n",
    "# R = quaternion_to_rotation_matrix(q)\n",
    "# print(\"Rotation matrix:\")\n",
    "# print(R)"
   ]
  },
  {
   "cell_type": "code",
   "execution_count": 19,
   "id": "4c3f753e",
   "metadata": {},
   "outputs": [
    {
     "name": "stdout",
     "output_type": "stream",
     "text": [
      "[[-0.98275063  0.03320971 -0.18192945]\n",
      " [ 0.02730575  0.99901904  0.0348618 ]\n",
      " [ 0.18290873  0.02929273 -0.98269341]]\n"
     ]
    }
   ],
   "source": [
    "# Invert the rotation matrix\n",
    "rotation_matrix_transpose = np.transpose(r.as_matrix())\n",
    "print(rotation_matrix_transpose)"
   ]
  },
  {
   "cell_type": "code",
   "execution_count": 20,
   "id": "7e5c3593",
   "metadata": {},
   "outputs": [],
   "source": [
    "# Calculate camera center\n",
    "translation = res_data[0][4:]\n",
    "camera_center = -np.dot(rotation_matrix_transpose, translation)"
   ]
  },
  {
   "cell_type": "code",
   "execution_count": 21,
   "id": "8233393e",
   "metadata": {},
   "outputs": [
    {
     "data": {
      "text/plain": [
       "array([-2.56668947,  0.05155415, -0.36246083])"
      ]
     },
     "execution_count": 21,
     "metadata": {},
     "output_type": "execute_result"
    }
   ],
   "source": [
    "camera_center"
   ]
  },
  {
   "cell_type": "code",
   "execution_count": 22,
   "id": "205f39c9",
   "metadata": {},
   "outputs": [],
   "source": [
    "empty_list = []\n",
    "from scipy.spatial.transform import Rotation as R\n",
    "for i in range(len(res_data)):\n",
    "    x = np.insert(res_data[i][0:4], 4, res_data[i][0])[1:5] # uses scalar-last format\n",
    "    r = R.from_quat(x).as_matrix()\n",
    "    # Calculate camera center\n",
    "    translation = res_data[i][4:]\n",
    "    camera_center = -np.dot(np.transpose(r), translation)    \n",
    "    empty_list.append(np.concatenate((camera_center, x)))"
   ]
  },
  {
   "cell_type": "code",
   "execution_count": 23,
   "id": "bcb7c4b0",
   "metadata": {},
   "outputs": [],
   "source": [
    "res_format = np.array(empty_list)"
   ]
  },
  {
   "cell_type": "code",
   "execution_count": 24,
   "id": "f7c2e6d9",
   "metadata": {},
   "outputs": [
    {
     "data": {
      "text/plain": [
       "array([-2.56668947,  0.05155415, -0.36246083,  0.01519652,  0.99554797,\n",
       "        0.01611036,  0.09161743])"
      ]
     },
     "execution_count": 24,
     "metadata": {},
     "output_type": "execute_result"
    }
   ],
   "source": [
    "res_format[0]"
   ]
  },
  {
   "cell_type": "code",
   "execution_count": 25,
   "id": "0ecb7408",
   "metadata": {},
   "outputs": [],
   "source": [
    "import matplotlib.pyplot as plt\n",
    "import sys\n",
    "\n",
    "def gen_data(ground_time, res_time, ground_data):\n",
    "    ground_time = ground_time\n",
    "    res_time = res_time\n",
    "    ground_data = ground_data\n",
    "    time_mark = 0\n",
    "    time = []\n",
    "    \n",
    "    data_1 = []\n",
    "\n",
    "    for num in range(len(ground_data)):\n",
    "        data_1.append(np.concatenate(([ground_time[num]], ground_data[num])))\n",
    "\n",
    "    data_2 = []\n",
    "\n",
    "\n",
    "\n",
    "\n",
    "    for num in range(len(res_time)):\n",
    "# \t\twhile not np.allclose(data_1[time_mark][0], res_time[num][0]):\n",
    "# \t\t    time_mark+=1\n",
    "        data_2.append(data_1[time_mark])\n",
    "        time_mark+=1\n",
    "    return data_2\n",
    "\n",
    "\n",
    "def get_coo(data):\n",
    "\tpoints = [[],[],[]]\n",
    "\tfor num in range(len(data)):\n",
    "\t\tpoints[0].append(data[num][4])\n",
    "\t\tpoints[1].append(data[num][8])\n",
    "\t\tpoints[2].append(data[num][12])\n",
    "\treturn points\n",
    "\n",
    "\n",
    "def get_points(data):\n",
    "\tpoints = [[],[],[]]\n",
    "\tfor num in range(len(data)):\n",
    "\t\tpoints[0].append(data[num][0])\n",
    "\t\tpoints[1].append(data[num][1])\n",
    "\t\tpoints[2].append(data[num][2])\n",
    "\treturn points\n",
    "\n",
    "\n",
    "def align(model,data):\n",
    "    \"\"\"Align two trajectories using the method of Horn (closed-form).\n",
    "    \n",
    "    Input:\n",
    "    model -- first trajectory (3xn)\n",
    "    data -- second trajectory (3xn)\n",
    "    \n",
    "    Output:\n",
    "    rot -- rotation matrix (3x3)\n",
    "    trans -- translation vector (3x1)\n",
    "    trans_error -- translational error per point (1xn)\n",
    "    \n",
    "    \"\"\"\n",
    "    np.set_printoptions(precision=3,suppress=True)\n",
    "    model_mean=[[model.mean(1)[0]], [model.mean(1)[1]], [model.mean(1)[2]]]\n",
    "    data_mean=[[data.mean(1)[0]], [data.mean(1)[1]], [data.mean(1)[2]]]\n",
    "    model_zerocentered = model - model_mean\n",
    "    data_zerocentered = data - data_mean\n",
    "    \n",
    "    W = np.zeros( (3,3) )\n",
    "    for column in range(model.shape[1]):\n",
    "        W += np.outer(model_zerocentered[:,column],data_zerocentered[:,column])\n",
    "    U,d,Vh = np.linalg.linalg.svd(W.transpose())\n",
    "    S = np.matrix(np.identity( 3 ))\n",
    "    if(np.linalg.det(U) * np.linalg.det(Vh)<0):\n",
    "        S[2,2] = -1\n",
    "    rot = U*S*Vh\n",
    "\n",
    "    rotmodel = rot*model_zerocentered\n",
    "    dots = 0.0\n",
    "    norms = 0.0\n",
    "\n",
    "    for column in range(data_zerocentered.shape[1]):\n",
    "        dots += np.dot(data_zerocentered[:,column].transpose(),rotmodel[:,column])\n",
    "        normi = np.linalg.norm(model_zerocentered[:,column])\n",
    "        norms += normi*normi\n",
    "\n",
    "    s = float(dots/norms)    \n",
    "\n",
    "    # print (\"scale: %f \" % s) \n",
    "    \n",
    "    trans = data_mean - s*rot * model_mean\n",
    "    \n",
    "    model_aligned = s*rot * model + trans\n",
    "    alignment_error = model_aligned - data\n",
    "    \n",
    "    trans_error = np.sqrt(np.sum(np.multiply(alignment_error,alignment_error),0)).A[0]\n",
    "        \n",
    "    return rot,trans,trans_error, s"
   ]
  },
  {
   "cell_type": "code",
   "execution_count": 26,
   "id": "a3e16ad4",
   "metadata": {},
   "outputs": [
    {
     "name": "stdout",
     "output_type": "stream",
     "text": [
      "compared_pose_pairs 1101 pairs\n",
      "absolute_translational_error.rmse 23.505943 m\n",
      "absolute_translational_error.mean 20.086507 m\n",
      "absolute_translational_error.median 17.658253 m\n",
      "absolute_translational_error.std 12.209078 m\n",
      "absolute_translational_error.min 3.549544 m\n",
      "absolute_translational_error.max 56.556985 m\n"
     ]
    },
    {
     "data": {
      "image/png": "[encoded data removed]",
      "text/plain": [
       "<Figure size 640x480 with 1 Axes>"
      ]
     },
     "metadata": {},
     "output_type": "display_data"
    }
   ],
   "source": [
    "data= gen_data(ground_time, res_format, ground_data)\n",
    "ground_points = np.asarray(get_coo(data))\n",
    "re_points = np.asarray(get_points(res_format))\n",
    "# print(type(ground_points))\n",
    "rot,trans,trans_error,s = align(re_points, ground_points)\n",
    "# print(rot)\n",
    "re_fpoints = s*rot*re_points+trans\n",
    "# print(re_fpoints[0])\n",
    "# print(trans_error)\n",
    "plt.axis('equal')\n",
    "plt.scatter(ground_points[0], ground_points[2], s=0.1)\n",
    "plt.scatter(list(re_fpoints[0]), list(re_fpoints[2]), s=0.1, c='red')\n",
    "aa = list(re_fpoints[0])\n",
    "x = aa[0].tolist()\n",
    "aa = list(re_fpoints[2])\n",
    "y = aa[0].tolist()\n",
    "\n",
    "print (\"compared_pose_pairs %d pairs\"%(len(trans_error)))\n",
    "print (\"absolute_translational_error.rmse %f m\"%np.sqrt(np.dot(trans_error,trans_error) / len(trans_error)))\n",
    "print (\"absolute_translational_error.mean %f m\"%np.mean(trans_error))\n",
    "print (\"absolute_translational_error.median %f m\"%np.median(trans_error))\n",
    "print (\"absolute_translational_error.std %f m\"%np.std(trans_error))\n",
    "print (\"absolute_translational_error.min %f m\"%np.min(trans_error))\n",
    "print (\"absolute_translational_error.max %f m\"%np.max(trans_error))\n",
    "\n",
    "# for num in range(len(ground_points[0])):\n",
    "# plt.plot([ground_points[0][num], x[0][num]], [ground_points[2][num], y[0][num]], c = 'green')\n",
    "plt.show()"
   ]
  },
  {
   "cell_type": "code",
   "execution_count": null,
   "id": "0e092421",
   "metadata": {},
   "outputs": [],
   "source": []
  }
 ],
 "metadata": {
  "kernelspec": {
   "display_name": "Python 3 (ipykernel)",
   "language": "python",
   "name": "python3"
  },
  "language_info": {
   "codemirror_mode": {
    "name": "ipython",
    "version": 3
   },
   "file_extension": ".py",
   "mimetype": "text/x-python",
   "name": "python",
   "nbconvert_exporter": "python",
   "pygments_lexer": "ipython3",
   "version": "3.10.12"
  }
 },
 "nbformat": 4,
 "nbformat_minor": 5
}
